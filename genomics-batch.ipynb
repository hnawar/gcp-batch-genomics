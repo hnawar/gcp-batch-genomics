{
 "cells": [
  {
   "cell_type": "code",
   "execution_count": null,
   "id": "57308bb0-48b7-4fcd-a6b0-091a9aa7fb87",
   "metadata": {
    "tags": []
   },
   "outputs": [],
   "source": [
    "pip install google-cloud-batch ipywidgets"
   ]
  },
  {
   "cell_type": "markdown",
   "id": "0acc92db-a3d5-43f8-8e8c-78f772e23fb0",
   "metadata": {},
   "source": [
    "### Download sample data"
   ]
  },
  {
   "cell_type": "code",
   "execution_count": null,
   "id": "5cc5be12-5135-40a1-a42c-687dce32a38f",
   "metadata": {},
   "outputs": [],
   "source": [
    "!wget -O parabricks_sample.tar.gz     \"https://s3.amazonaws.com/parabricks.sample/parabricks_sample.tar.gz\""
   ]
  },
  {
   "cell_type": "code",
   "execution_count": null,
   "id": "6a10ef25-028e-4f1b-8a4b-2d685b8d5e58",
   "metadata": {},
   "outputs": [],
   "source": [
    "!tar -xvf parabricks_sample.tar.gz"
   ]
  },
  {
   "cell_type": "code",
   "execution_count": 1,
   "id": "b0b9e304-5b6f-4774-a111-4aa1776f935c",
   "metadata": {
    "tags": []
   },
   "outputs": [],
   "source": [
    "import csv\n",
    "from ipywidgets import interact, widgets"
   ]
  },
  {
   "cell_type": "markdown",
   "id": "489217da-8226-4543-bc3c-6daa297eda7a",
   "metadata": {},
   "source": [
    "## Read CSV file and generate batch job variables"
   ]
  },
  {
   "cell_type": "code",
   "execution_count": 3,
   "id": "92470516-a4b4-4039-8704-2041dc3966b2",
   "metadata": {
    "tags": []
   },
   "outputs": [],
   "source": [
    "input_csv = \"fq_list.csv\""
   ]
  },
  {
   "cell_type": "code",
   "execution_count": 1,
   "id": "23da70e6-4977-4566-9380-3754a6a0b946",
   "metadata": {
    "tags": []
   },
   "outputs": [],
   "source": []
  },
  {
   "cell_type": "code",
   "execution_count": null,
   "id": "89b95c10-960f-4ea9-8b31-a0e46dfc2ff1",
   "metadata": {},
   "outputs": [],
   "source": [
    "batch_job_desc = \"\"\"\n",
    "{\n",
    "  \"logsPolicy\": {\n",
    "    \"destination\": \"CLOUD_LOGGING\"\n",
    "  },\n",
    "  \"taskGroups\": [\n",
    "    {\n",
    "      \"taskSpec\": {\n",
    "        \"runnables\": [\n",
    "          {\n",
    "            \"script\": {\n",
    "              \"text\": \"gcloud storage cp $INPUT_PATH /tmp/file_to_be_processed\" // copy the file from GCS to local\n",
    "            }\n",
    "          },\n",
    "          {\n",
    "              \"container\": {\n",
    "              \"imageUri\": \"nvcr.io/nvidia/clara/clara-parabricks:4.1.0-1\",\n",
    "              \"commands\": [\n",
    "                \"-c\",\n",
    "                \"pbrun fq2bam --ref Ref/Homo_sapiens_assembly38.fasta \\\n",
    "--in-fq Data/sample_1.fq.gz Data/sample_2.fq.gz  \\\n",
    "--knownSites Ref/Homo_sapiens_assembly38.known_indels.vcf.gz \\\n",
    "--out-bam mark_dups_gpu.bam \\\n",
    "--out-recal-file recal_gpu.txt \\\n",
    "--tmp-dir /raid/myrun\"\n",
    "              ],\n",
    "              \"entrypoint\": \"/bin/sh\"\n",
    "            }\n",
    "          }\n",
    "        ]\n",
    "        \"taskCount\": \"3\",\n",
    "        \"taskCountPerNode\": \"1\",\n",
    "      },\n",
    "      \"taskEnvironments\": [\n",
    "        {\n",
    "          \"variables\": {\n",
    "            \"INPUT_PATH\": \"input_path_0\"\n",
    "          }\n",
    "        },\n",
    "        {\n",
    "          \"variables\": {\n",
    "            \"INPUT_PATH\": \"input_path_2\"\n",
    "          }\n",
    "        },\n",
    "        {\n",
    "          \"variables\": {\n",
    "            \"INPUT_PATH\": \"input_path_3\"\n",
    "          }\n",
    "        }\n",
    "      ]\n",
    "    }\n",
    "  ]\n",
    "}\n",
    "\"\"\""
   ]
  }
 ],
 "metadata": {
  "environment": {
   "kernel": "conda-root-py",
   "name": "workbench-notebooks.m113",
   "type": "gcloud",
   "uri": "gcr.io/deeplearning-platform-release/workbench-notebooks:m113"
  },
  "kernelspec": {
   "display_name": "Python 3 (ipykernel) (Local)",
   "language": "python",
   "name": "conda-root-py"
  },
  "language_info": {
   "codemirror_mode": {
    "name": "ipython",
    "version": 3
   },
   "file_extension": ".py",
   "mimetype": "text/x-python",
   "name": "python",
   "nbconvert_exporter": "python",
   "pygments_lexer": "ipython3",
   "version": "3.10.13"
  },
  "widgets": {
   "application/vnd.jupyter.widget-state+json": {
    "state": {},
    "version_major": 2,
    "version_minor": 0
   }
  }
 },
 "nbformat": 4,
 "nbformat_minor": 5
}
